{
 "cells": [
  {
   "cell_type": "markdown",
   "metadata": {},
   "source": [
    "### CS281A Final Project MAB - Gale–Shapley Matching version\n",
    "- exploration vs exploitation dilemma\n",
    "- https://www.ijcai.org/Proceedings/05/Papers/0334.pdf\n",
    "- https://github.com/lilianweng/multi-armed-bandit"
   ]
  },
  {
   "cell_type": "code",
   "execution_count": 290,
   "metadata": {},
   "outputs": [],
   "source": [
    "from __future__ import division\n",
    "\n",
    "import time\n",
    "import numpy as np\n",
    "import matplotlib\n",
    "import random\n",
    "from matplotlib import pyplot as plt\n",
    "\n",
    "from scipy.stats import beta\n",
    "from scipy.stats import truncnorm\n",
    "from numpy import argsort\n",
    "\n",
    "import warnings\n",
    "warnings.filterwarnings(\"ignore\")"
   ]
  },
  {
   "cell_type": "markdown",
   "metadata": {},
   "source": [
    "### Some help functions"
   ]
  },
  {
   "cell_type": "code",
   "execution_count": 291,
   "metadata": {},
   "outputs": [
    {
     "name": "stdout",
     "output_type": "stream",
     "text": [
      "7.323622291158386\n"
     ]
    },
    {
     "data": {
      "text/plain": [
       "{5: [0, 4, 2, 3, 1],\n",
       " 6: [4, 3, 2, 1, 0],\n",
       " 7: [3, 0, 2, 4, 1],\n",
       " 8: [0, 1, 2, 4, 3],\n",
       " 9: [0, 2, 3, 4, 1]}"
      ]
     },
     "execution_count": 291,
     "metadata": {},
     "output_type": "execute_result"
    }
   ],
   "source": [
    "# genearte positive Gaussian rewards\n",
    "def get_truncated_normal(mean=0, sd=1, low=0, upp=10):\n",
    "    return truncnorm((low-mean)/sd, (upp-mean)/sd, loc=mean, scale=sd)\n",
    "\n",
    "# turn reward_matrix into preference dictionary\n",
    "def preference_dic(reward_matrix_, init_index=0, end_index=0):\n",
    "    # here init_index and end_index will help differentiate agents/arms\n",
    "    temp_dic = {}\n",
    "    for i in range(len(reward_matrix_)):    \n",
    "        # descending order preference\n",
    "        temp_order = list(np.flip(argsort(reward_matrix_[i,])))\n",
    "        temp_dic[i+init_index] = np.add(temp_order, end_index).tolist()\n",
    "    return temp_dic\n",
    "    \n",
    "# example\n",
    "X = get_truncated_normal(mean=5, sd=2, low=0, upp=10)\n",
    "print(X.rvs())\n",
    "A = np.random.rand(5,5)\n",
    "# print(preference_dic(A, 0))\n",
    "preference_dic(A, 5, 0)"
   ]
  },
  {
   "cell_type": "markdown",
   "metadata": {},
   "source": [
    "### Gale–Shapley algorithm implementation\n",
    "- Plug in mean-rewarded  preference matrices will return one-to-one matching pairs\n",
    "- https://github.com/alextanhongpin/stable-marriage-problem/blob/master/python/main.ipynb"
   ]
  },
  {
   "cell_type": "code",
   "execution_count": 292,
   "metadata": {},
   "outputs": [],
   "source": [
    "class Agent:\n",
    "    def __init__(self, name, preference):\n",
    "        \"\"\"\n",
    "        Preference here actually is the ranking of estimated mean vector at previous step\n",
    "        \"\"\"\n",
    "        self.name = name\n",
    "        self.preference = preference\n",
    "        self.is_matched = False\n",
    "        self.partner = None\n",
    "        self.index = 0 # Index to hold the position of the proposed wives\n",
    "    \n",
    "    def propose(self):\n",
    "        arm = self.preference[self.index]\n",
    "        self.index += 1\n",
    "        return arm\n",
    "    \n",
    "    def is_available(self):\n",
    "        return not self.is_matched"
   ]
  },
  {
   "cell_type": "code",
   "execution_count": 293,
   "metadata": {},
   "outputs": [],
   "source": [
    "class Arm:\n",
    "    def __init__(self, name, preference):\n",
    "        \"\"\"\n",
    "        Preference here actually is the ranking of estimated mean vector at previous step\n",
    "        \"\"\"\n",
    "        self.name = name\n",
    "        self.preference = preference\n",
    "        self.is_matched = False\n",
    "        self.partner = None\n",
    "    \n",
    "    def is_available(self):\n",
    "        return not self.is_matched\n",
    "\n",
    "    def rank(self, m1, m2):\n",
    "        m1_score = self.preference.index(m1)\n",
    "        m2_score = self.preference.index(m2)\n",
    "\n",
    "        # Lower index means higher preference\n",
    "        return m1 if m1_score < m2_score else m2"
   ]
  },
  {
   "cell_type": "code",
   "execution_count": 294,
   "metadata": {},
   "outputs": [],
   "source": [
    "class Matches:\n",
    "    def __init__(self, agents, arms):\n",
    "        self.matches = {}\n",
    "\n",
    "        self.choices = len(agents)\n",
    "        self.agents = list(agents.keys())\n",
    "        self.arms = list(arms.keys())\n",
    "        self.match_count = 0\n",
    "        \n",
    "        for i in agents:\n",
    "            self.matches[i] = Agent(i, agents[i])\n",
    "\n",
    "        for j in arms:\n",
    "            self.matches[j] = Arm(j, arms[j])\n",
    "        \n",
    "    def engage(self, agent_name, arm_name):\n",
    "        agent = self.matches[agent_name]\n",
    "        arm = self.matches[arm_name]\n",
    "        \n",
    "        agent.is_matched = True\n",
    "        agent.partner = arm\n",
    "        \n",
    "        arm.is_matched = True\n",
    "        arm.partner = agent\n",
    "        \n",
    "        self.match_count += 1\n",
    "    def breakup(self, agent_name, arm_name):\n",
    "        agent = self.matches[agent_name]\n",
    "        arm = self.matches[arm_name]\n",
    "        \n",
    "        agent.is_matched = False\n",
    "        agent.partner = None\n",
    "        \n",
    "        arm.is_matched = False\n",
    "        arm.partner = None\n",
    "\n",
    "        self.match_count -= 1\n",
    "    \n",
    "    def match(self):\n",
    "        for m in self.agents:\n",
    "            agent = self.matches[m]\n",
    "            if not agent.is_available():\n",
    "                continue\n",
    "\n",
    "            arm = self.matches[agent.propose()]\n",
    "            if arm.is_available():\n",
    "                self.engage(agent.name, arm.name)\n",
    "            else:\n",
    "                agent_name = arm.rank(agent.name, arm.partner.name)\n",
    "                self.breakup(arm.partner.name, agent_name)\n",
    "                self.engage(agent_name, arm.name)\n",
    "        if self.match_count < self.choices:\n",
    "            self.match()\n",
    "\n",
    "        return self.sets()\n",
    "    \n",
    "    def sets(self):\n",
    "        matches = {}\n",
    "        for i in self.matches:\n",
    "            match = self.matches[i]\n",
    "            matches[frozenset([match.name, match.partner.name])] = True\n",
    "        return list(matches.keys())"
   ]
  },
  {
   "cell_type": "code",
   "execution_count": 295,
   "metadata": {},
   "outputs": [],
   "source": [
    "def load_data(n = None):\n",
    "    agents = {'k': ['b', 'c', 'a'],\n",
    "              'l': ['a', 'c', 'b'],\n",
    "              'm': ['a', 'b', 'c']}\n",
    "\n",
    "    arms = {'a': ['k', 'l', 'm'],\n",
    "            'b': ['l', 'm', 'k'],\n",
    "            'c': ['m', 'l', 'k']}            \n",
    "    return agents, arms"
   ]
  },
  {
   "cell_type": "code",
   "execution_count": 296,
   "metadata": {},
   "outputs": [
    {
     "data": {
      "text/plain": [
       "[frozenset({'c', 'k'}), frozenset({'a', 'l'}), frozenset({'b', 'm'})]"
      ]
     },
     "execution_count": 296,
     "metadata": {},
     "output_type": "execute_result"
    }
   ],
   "source": [
    "# Test Example\n",
    "agent_data, arm_data = load_data(0)\n",
    "matches = Matches(agent_data, arm_data)\n",
    "matches.match()"
   ]
  },
  {
   "cell_type": "code",
   "execution_count": 297,
   "metadata": {},
   "outputs": [
    {
     "name": "stdout",
     "output_type": "stream",
     "text": [
      "[[0, 7], [1, 8], [2, 10], [3, 6], [4, 9], [5, 11]]\n"
     ]
    }
   ],
   "source": [
    "# Aggregate function\n",
    "# given two reward_matrices and return stable matching pairs\n",
    "def stable_matching_pair(reward_matrix_agent_, reward_matrix_arm_):\n",
    "    agent_data = preference_dic(reward_matrix_agent_, 0, len(reward_matrix_agent_))\n",
    "    arm_data = preference_dic(reward_matrix_arm_, len(reward_matrix_agent_))\n",
    "    matches = Matches(agent_data, arm_data)\n",
    "    frozensetmatch = matches.match()\n",
    "    return [sorted(list(key_)) for key_ in frozensetmatch]\n",
    "\n",
    "# Test\n",
    "A1 = np.random.rand(6, 6)\n",
    "A2 = np.random.rand(6, 6)\n",
    "result = stable_matching_pair(A1, A2)\n",
    "print(result)"
   ]
  },
  {
   "cell_type": "markdown",
   "metadata": {},
   "source": [
    "#### Define Bandit and GaussianBandit object"
   ]
  },
  {
   "cell_type": "code",
   "execution_count": 298,
   "metadata": {},
   "outputs": [],
   "source": [
    "class Bandit(object):\n",
    "    def generate_reward(self, matching_dic_):\n",
    "        raise NotImplementedError\n",
    "        \n",
    "class GaussianBandit(Bandit):\n",
    "    \"\"\"\n",
    "    with Gaussian rewards\n",
    "    \"\"\"\n",
    "    def __init__(self, n, mean_matrix=None):\n",
    "        assert mean_matrix is None or ((len(mean_matrix) == n) & (len(mean_matrix[:,0]) == n))\n",
    "        self.n = n\n",
    "        # if we don't have any learned mean_matrix, we generate some random mean samples\n",
    "        # Here agents/arms' mean_rewards don't have to be the same\n",
    "        \"\"\"\n",
    "        if mean_matrix is None:\n",
    "            np.random.seed(random.randint(1, 1000000))\n",
    "            self.mean_matrix = np.random.rand(self.n, self.n)\n",
    "        else:\n",
    "            self.mean_matrix = mean_matrix\n",
    "        \"\"\"\n",
    "        if mean_matrix is None:\n",
    "            options = [i*0.5 for i in range(self.n)]\n",
    "            self.mean_matrix = np.zeros((self.n,self.n))\n",
    "            for i in range(self.n):\n",
    "                np.random.seed(random.randint(1, 1000000))\n",
    "                self.mean_matrix[i,:] = random.sample(options, len(options))\n",
    "        else:\n",
    "            self.mean_matrix = mean_matrix\n",
    "        \n",
    "    def generate_reward(self, matching_dic_):\n",
    "        # The agent-arm matches following matching_dic_\n",
    "        # Here we assign all Gaussian Bandit has variance == 1\n",
    "        # now reward should be a matrix as well rather than scalar\n",
    "        reward_matrix = np.zeros((self.n, self.n))\n",
    "        for pair_ in matching_dic_:\n",
    "            # pair - (agent, arm)\n",
    "            short_pair1 = pair_[1] - len(matching_dic_)\n",
    "            np.random.seed(random.randint(1, 1000000))\n",
    "            X = get_truncated_normal(mean=self.mean_matrix[pair_[0]][short_pair1], sd=1e-2, low=0, upp=10)\n",
    "            reward_matrix[pair_[0]][short_pair1] = X.rvs()\n",
    "        return reward_matrix"
   ]
  },
  {
   "cell_type": "markdown",
   "metadata": {},
   "source": [
    "### Define Generalized Solver object\n",
    "- Solver will keep track of actions, regret and help run steps etc."
   ]
  },
  {
   "cell_type": "code",
   "execution_count": 299,
   "metadata": {},
   "outputs": [],
   "source": [
    "class Solver(object):\n",
    "    def __init__(self, bandit_arm, bandit_agent):\n",
    "        \"\"\"\n",
    "        bandit (Bandit): the target bandit to solve.\n",
    "        \"\"\"\n",
    "        assert isinstance(bandit_arm, GaussianBandit)\n",
    "        assert isinstance(bandit_agent, GaussianBandit)\n",
    "        np.random.seed(int(time.time()))\n",
    "        self.bandit_arm = bandit_arm\n",
    "        self.bandit_agent = bandit_agent\n",
    "        self.counts_agent = np.zeros((self.bandit_agent.n,self.bandit_arm.n))\n",
    "        self.counts_arm = np.zeros((self.bandit_arm.n,self.bandit_agent.n))\n",
    "        self.actions = [] # A list of list of stable matching pairs each step\n",
    "        self.regret_agent = [0.] *  self.bandit_arm.n # Cumulative regret - each regret is a vector\n",
    "        self.regret_arm = [0.] * self.bandit_agent.n\n",
    "        self.regrets_agent = [] # History of cumulative regret - a list of regret\n",
    "        self.regrets_arm = []\n",
    "        \n",
    "    def update_regret(self, matching_pair_list_):\n",
    "        # matching_pair_list_: index of matching pair between agents and arms\n",
    "        # Our loss function is the total regret we might have by not selecting the optimal bandit up to the time step T\n",
    "        \n",
    "        # compute regret for agent by using bandit_arm\n",
    "        # generate rewards based on above matched_mean\n",
    "        np.random.seed(random.randint(1, 1000000))\n",
    "        match_mean_rewards = self.bandit_arm.generate_reward(matching_pair_list_)\n",
    "        # based on true mean_matrix + Gale Shapley algorithm - find stable matching\n",
    "        \n",
    "        \"Optimal\"\n",
    "        # true_matching_pair_list_ = stable_matching_pair(self.bandit_arm.mean_matrix, self.bandit_agent.mean_matrix)\n",
    "        # true_match_mean_rewards = self.bandit_arm.generate_reward(true_matching_pair_list_)\n",
    "        \n",
    "        \"Pessimal\"\n",
    "        true_matching_pair_list_ = stable_matching_pair(self.bandit_agent.mean_matrix, self.bandit_arm.mean_matrix)\n",
    "        true_matching_pair_list_ = [[pair_[1]-self.bandit_agent.n, pair_[0]+self.bandit_agent.n] for pair_ in true_matching_pair_list_]\n",
    "        true_match_mean_rewards = self.bandit_arm.generate_reward(true_matching_pair_list_)    \n",
    "        regret1 = np.amax(true_match_mean_rewards, 1) - np.amax(match_mean_rewards, 1)\n",
    "        \n",
    "        # compute regret for arm by using bandit_agent\n",
    "        # matched_mean = [self.bandit_agent.mean_matrix[pair_[1]-len(matching_pair_list_)][pair_[0]] for pair_ in matching_pair_list_]\n",
    "        np.random.seed(random.randint(1, 1000000))\n",
    "        match_mean_rewards = self.bandit_agent.generate_reward(matching_pair_list_).transpose()\n",
    "        true_match_mean_rewards = self.bandit_agent.generate_reward(true_matching_pair_list_).transpose()\n",
    "        regret2 = np.amax(true_match_mean_rewards, 1) - np.amax(match_mean_rewards, 1)\n",
    "        \n",
    "        # aggregate\n",
    "        self.regret_agent = np.add(self.regret_agent, regret1)\n",
    "        self.regret_arm = np.add(self.regret_arm, regret2)\n",
    "        self.regrets_agent.append(self.regret_agent)\n",
    "        self.regrets_arm.append(self.regret_arm)\n",
    "        \n",
    "    @property\n",
    "    def estimated_mean_vector(self):\n",
    "        raise NotImplementedError\n",
    "    \n",
    "    def run_one_step(self):\n",
    "        \"\"\"Return the machine index to take action on.\"\"\"\n",
    "        raise NotImplementedError\n",
    "    \n",
    "    def run(self, num_steps):\n",
    "        assert self.bandit_agent is not None\n",
    "        assert self.bandit_arm is not None\n",
    "        for _ in range(num_steps):\n",
    "            matching_dic = self.run_one_step()\n",
    "            # update two counts matrices\n",
    "            for pair_ in matching_dic:\n",
    "                short_pair1 = pair_[1] - len(matching_dic)\n",
    "                self.counts_agent[pair_[0]][short_pair1] += 1\n",
    "                self.counts_arm[short_pair1][pair_[0]] += 1\n",
    "            # update actions\n",
    "            self.actions.append(matching_dic)\n",
    "            # update regret\n",
    "            self.update_regret(matching_dic)"
   ]
  },
  {
   "cell_type": "markdown",
   "metadata": {},
   "source": [
    "### Define two-sided UCB Solver object"
   ]
  },
  {
   "cell_type": "code",
   "execution_count": 300,
   "metadata": {},
   "outputs": [],
   "source": [
    "class Two_sided_UCB(Solver):\n",
    "    def __init__(self, bandit_arm, bandit_agent, init_mean_arm=1.0, init_mean_agent=1.0):\n",
    "        super(Two_sided_UCB, self).__init__(bandit_arm, bandit_agent)\n",
    "        self.t = 0\n",
    "        self.estimatesOfAgent = init_mean_arm * np.ones((self.bandit_agent.n,self.bandit_arm.n))\n",
    "        self.estimatesOfArm = init_mean_agent * np.ones((self.bandit_arm.n,self.bandit_agent.n))\n",
    "        \n",
    "    @property\n",
    "    def estimated_mean_vector(self):\n",
    "        return self.estimatesOfAgent, self.estimatesOfArm\n",
    "    \n",
    "    def run_one_step(self):\n",
    "        self.t += 1\n",
    "        # update mean_reward estimate by further calculating UCB \n",
    "        # choose the matching pair from Gale-Shapley algorithm stable matching result\n",
    "        # UCB_estimateOfAgent_UCB = self.estimatesOfAgent + np.sqrt(2*np.log(self.t)/(1+self.counts_agent))\n",
    "        UCB_estimateOfAgent_UCB = self.estimatesOfAgent + np.sqrt(3*np.log(self.t)/((1+self.counts_agent)))\n",
    "        # UCB_estimateOfArm_UCB = self.estimatesOfArm + np.sqrt(2*np.log(self.t)/(1+self.counts_arm))\n",
    "        UCB_estimateOfArm_UCB = self.estimatesOfArm + np.sqrt(3*np.log(self.t)/((1+self.counts_arm)))\n",
    "        \n",
    "        # if the arm has never been pulled then set UCB to be infinite large\n",
    "        for len_ in range(len(self.counts_agent)):\n",
    "            for width_ in range(len(self.counts_agent[len_, :])):\n",
    "                if self.counts_agent[len_][width_] == 0:\n",
    "                    UCB_estimateOfAgent_UCB[len_][width_] = np.inf\n",
    "        for len_ in range(len(self.counts_arm)):\n",
    "            for width_ in range(len(self.counts_arm[len_, :])):\n",
    "                if self.counts_arm[len_][width_] == 0:\n",
    "                    UCB_estimateOfArm_UCB[len_][width_] = np.inf\n",
    "        matching_dic = stable_matching_pair(UCB_estimateOfAgent_UCB, UCB_estimateOfArm_UCB) # list of pair-list\n",
    "        \n",
    "        np.random.seed(random.randint(1, 1000000))\n",
    "        r_arm = self.bandit_arm.generate_reward(matching_dic)\n",
    "        r_agent = self.bandit_agent.generate_reward(matching_dic).transpose()\n",
    "        \n",
    "        self.estimatesOfAgent += 1. / (self.counts_agent + 1) * (r_agent - self.estimatesOfAgent)\n",
    "        # print(self.estimatesOfAgent)\n",
    "        self.estimatesOfArm += 1. / (self.counts_arm + 1) * (r_arm - self.estimatesOfArm)\n",
    "        # print(matching_dic)\n",
    "        return matching_dic                                           "
   ]
  },
  {
   "cell_type": "code",
   "execution_count": 301,
   "metadata": {},
   "outputs": [],
   "source": [
    "def experiment(K, N):\n",
    "    \"\"\"\n",
    "    Run a small experiment on solving a Gaussian bandit with K slot machines and K agents,\n",
    "    each with a randomly initialized reward probability.\n",
    "    Args:\n",
    "        K (int): number of slot machines/agents.\n",
    "        N (int): number of time steps to try.\n",
    "    \"\"\"\n",
    "    g_arm = GaussianBandit(K)\n",
    "    g_agent = GaussianBandit(K)\n",
    "    test_solver = Two_sided_UCB(g_arm, g_agent)\n",
    "    test_solver.run(N)\n",
    "    estimateOfAgent, estimateOfArm = test_solver.estimated_mean_vector\n",
    "       \n",
    "    # print(\"Bandit_arm mean matrix: \\n\", test_solver.bandit_arm.mean_matrix)\n",
    "    # print(estimateOfAgent)\n",
    "    # print(\"Bandit_agent mean matrix: \\n\", test_solver.bandit_agent.mean_matrix)\n",
    "    # print(estimateOfArm)\n",
    "    \n",
    "    # print(\" \")\n",
    "    regrets_agent = test_solver.regrets_agent\n",
    "    regrets_arm = test_solver.regrets_arm\n",
    "    return regrets_agent, regrets_arm"
   ]
  },
  {
   "cell_type": "code",
   "execution_count": 302,
   "metadata": {},
   "outputs": [],
   "source": [
    "num_agent = 3\n",
    "regrets_agent, regrets_arm = experiment(num_agent, 1000)"
   ]
  },
  {
   "cell_type": "code",
   "execution_count": 271,
   "metadata": {},
   "outputs": [
    {
     "data": {
      "image/png": "[encoded data removed]",
      "text/plain": [
       "<Figure size 432x288 with 1 Axes>"
      ]
     },
     "metadata": {
      "needs_background": "light"
     },
     "output_type": "display_data"
    }
   ],
   "source": [
    "for j in range(num_agent):\n",
    "    regret_temp = [ regrets_agent[i][j] for i in range(len(regrets_agent))]\n",
    "    plt.plot(range(len(regret_temp)), regret_temp, label=\"agent a\"+str(j))\n",
    "plt.legend()\n",
    "plt.xlabel(\"Number of Steps\")\n",
    "plt.ylabel(\"Cumulative regrets\")\n",
    "plt.savefig('fig1.png')"
   ]
  },
  {
   "cell_type": "code",
   "execution_count": 272,
   "metadata": {},
   "outputs": [
    {
     "data": {
      "image/png": "[encoded data removed]",
      "text/plain": [
       "<Figure size 432x288 with 1 Axes>"
      ]
     },
     "metadata": {
      "needs_background": "light"
     },
     "output_type": "display_data"
    }
   ],
   "source": [
    "for j in range(num_agent):\n",
    "    regret_temp = [ regrets_arm[i][j] for i in range(len(regrets_agent))]\n",
    "    plt.plot(range(len(regret_temp)), regret_temp, label=\"agent b\"+str(j))\n",
    "plt.legend()\n",
    "plt.xlabel(\"Number of Steps\")\n",
    "plt.ylabel(\"Cumulative regrets\")\n",
    "plt.savefig('fig2.png')"
   ]
  },
  {
   "cell_type": "code",
   "execution_count": null,
   "metadata": {},
   "outputs": [],
   "source": [
    "regrets_agent_init, regrets_arm_init = experiment(num_agent, 500)\n",
    "for _ in range(20):\n",
    "    temp1, temp2 = experiment(num_agent, 500)\n",
    "    regrets_agent_init += temp1\n",
    "    regrets_arm_init += temp2\n",
    "    print(_)"
   ]
  },
  {
   "cell_type": "code",
   "execution_count": 305,
   "metadata": {},
   "outputs": [
    {
     "name": "stdout",
     "output_type": "stream",
     "text": [
      "[20.65435074 -8.77499701  0.11379421]\n",
      "[ -1.06363212 -11.89500244 -19.59289267]\n"
     ]
    }
   ],
   "source": [
    "print(regrets_agent_init[-1]/20)\n",
    "print(regrets_arm_init[-1]/20)"
   ]
  },
  {
   "cell_type": "code",
   "execution_count": null,
   "metadata": {},
   "outputs": [],
   "source": []
  }
 ],
 "metadata": {
  "kernelspec": {
   "display_name": "Python 3",
   "language": "python",
   "name": "python3"
  },
  "language_info": {
   "codemirror_mode": {
    "name": "ipython",
    "version": 3
   },
   "file_extension": ".py",
   "mimetype": "text/x-python",
   "name": "python",
   "nbconvert_exporter": "python",
   "pygments_lexer": "ipython3",
   "version": "3.7.6"
  }
 },
 "nbformat": 4,
 "nbformat_minor": 4
}
